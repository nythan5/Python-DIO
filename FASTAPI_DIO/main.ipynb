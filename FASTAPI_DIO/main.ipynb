{
 "cells": [
  {
   "cell_type": "code",
   "execution_count": null,
   "metadata": {},
   "outputs": [],
   "source": [
    "!pip install flask\n",
    "!pip install flask-ngrok"
   ]
  },
  {
   "cell_type": "code",
   "execution_count": null,
   "metadata": {},
   "outputs": [],
   "source": [
    "from flask import *\n",
    "from flask_ngrok import run_with_ngrok\n",
    "app = Flask(__name__)\n",
    "@app.route('/index')\n",
    "def home():\n",
    "    return 'Hello World'\n",
    "\n",
    "app.run()"
   ]
  },
  {
   "cell_type": "code",
   "execution_count": null,
   "metadata": {},
   "outputs": [],
   "source": [
    "!pip install fastapi nest-asyncio pyngrok uvicorn"
   ]
  },
  {
   "cell_type": "code",
   "execution_count": null,
   "metadata": {},
   "outputs": [],
   "source": [
    "!pip install pyngrok==4.1.1"
   ]
  },
  {
   "cell_type": "code",
   "execution_count": 1,
   "metadata": {},
   "outputs": [
    {
     "name": "stderr",
     "output_type": "stream",
     "text": [
      "t=2023-09-19T21:59:31-0300 lvl=warn msg=\"ngrok config file found at legacy location, move to XDG location\" xdg_path=C:\\\\Users\\\\gnd20\\\\AppData\\\\Local/ngrok/ngrok.yml legacy_path=C:\\\\Users\\\\gnd20\\\\.ngrok2\\\\ngrok.yml\n",
      "\n"
     ]
    },
    {
     "ename": "AttributeError",
     "evalue": "'str' object has no attribute 'public_url'",
     "output_type": "error",
     "traceback": [
      "\u001b[1;31m---------------------------------------------------------------------------\u001b[0m",
      "\u001b[1;31mAttributeError\u001b[0m                            Traceback (most recent call last)",
      "\u001b[1;32mc:\\Users\\gnd20\\Desktop\\Python DIO\\FASTAPI_DIO\\main.ipynb Célula 5\u001b[0m line \u001b[0;36m1\n\u001b[0;32m     <a href='vscode-notebook-cell:/c%3A/Users/gnd20/Desktop/Python%20DIO/FASTAPI_DIO/main.ipynb#W4sZmlsZQ%3D%3D?line=9'>10</a>\u001b[0m     \u001b[39mreturn\u001b[39;00m \u001b[39m\"\u001b[39m\u001b[39mHello World\u001b[39m\u001b[39m\"\u001b[39m\n\u001b[0;32m     <a href='vscode-notebook-cell:/c%3A/Users/gnd20/Desktop/Python%20DIO/FASTAPI_DIO/main.ipynb#W4sZmlsZQ%3D%3D?line=12'>13</a>\u001b[0m ngrok_tunnel \u001b[39m=\u001b[39m ngrok\u001b[39m.\u001b[39mconnect(\u001b[39m8000\u001b[39m)\n\u001b[1;32m---> <a href='vscode-notebook-cell:/c%3A/Users/gnd20/Desktop/Python%20DIO/FASTAPI_DIO/main.ipynb#W4sZmlsZQ%3D%3D?line=13'>14</a>\u001b[0m \u001b[39mprint\u001b[39m(\u001b[39m\"\u001b[39m\u001b[39mPublic URL:\u001b[39m\u001b[39m\"\u001b[39m, ngrok_tunnel\u001b[39m.\u001b[39;49mpublic_url())\n\u001b[0;32m     <a href='vscode-notebook-cell:/c%3A/Users/gnd20/Desktop/Python%20DIO/FASTAPI_DIO/main.ipynb#W4sZmlsZQ%3D%3D?line=14'>15</a>\u001b[0m nest_asyncio\u001b[39m.\u001b[39mapply()\n\u001b[0;32m     <a href='vscode-notebook-cell:/c%3A/Users/gnd20/Desktop/Python%20DIO/FASTAPI_DIO/main.ipynb#W4sZmlsZQ%3D%3D?line=15'>16</a>\u001b[0m uvicorn\u001b[39m.\u001b[39mrun(app, host\u001b[39m=\u001b[39m\u001b[39m\"\u001b[39m\u001b[39m0.0.0.0\u001b[39m\u001b[39m\"\u001b[39m, port\u001b[39m=\u001b[39m\u001b[39m8000\u001b[39m)\n",
      "\u001b[1;31mAttributeError\u001b[0m: 'str' object has no attribute 'public_url'"
     ]
    }
   ],
   "source": [
    "from fastapi import FastAPI\n",
    "import nest_asyncio\n",
    "from pyngrok import ngrok\n",
    "import uvicorn\n",
    "\n",
    "app = FastAPI()\n",
    "\n",
    "@app.get('/index')\n",
    "async def home():\n",
    "    return \"Hello World\"\n",
    "\n",
    "\n",
    "ngrok_tunnel = ngrok.connect(8000)\n",
    "print(\"Public URL:\", ngrok_tunnel.public_url)\n",
    "nest_asyncio.apply()\n",
    "uvicorn.run(app, host=\"0.0.0.0\", port=8000)"
   ]
  }
 ],
 "metadata": {
  "kernelspec": {
   "display_name": "Python 3",
   "language": "python",
   "name": "python3"
  },
  "language_info": {
   "codemirror_mode": {
    "name": "ipython",
    "version": 3
   },
   "file_extension": ".py",
   "mimetype": "text/x-python",
   "name": "python",
   "nbconvert_exporter": "python",
   "pygments_lexer": "ipython3",
   "version": "3.11.4"
  },
  "orig_nbformat": 4
 },
 "nbformat": 4,
 "nbformat_minor": 2
}
